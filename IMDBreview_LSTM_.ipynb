{
  "nbformat": 4,
  "nbformat_minor": 0,
  "metadata": {
    "colab": {
      "provenance": [],
      "authorship_tag": "ABX9TyNDFiP33T9Feo1fYXGLyMnv",
      "include_colab_link": true
    },
    "kernelspec": {
      "name": "python3",
      "display_name": "Python 3"
    },
    "language_info": {
      "name": "python"
    }
  },
  "cells": [
    {
      "cell_type": "markdown",
      "metadata": {
        "id": "view-in-github",
        "colab_type": "text"
      },
      "source": [
        "<a href=\"https://colab.research.google.com/github/shahisha/End-to-End-Deep-Learning/blob/main/IMDBreview_LSTM_.ipynb\" target=\"_parent\"><img src=\"https://colab.research.google.com/assets/colab-badge.svg\" alt=\"Open In Colab\"/></a>"
      ]
    },
    {
      "cell_type": "code",
      "execution_count": 1,
      "metadata": {
        "id": "hVQIfWWomBtb"
      },
      "outputs": [],
      "source": [
        "import numpy\n",
        "from keras.datasets import imdb\n",
        "from keras.models import Sequential\n",
        "from keras.layers import Dense\n",
        "from keras.layers import LSTM\n",
        "from keras.layers import Embedding\n",
        "from keras.preprocessing import sequence\n",
        "from keras.preprocessing.sequence import pad_sequences"
      ]
    },
    {
      "cell_type": "code",
      "source": [
        "top_words = 5000\n",
        "(X_train,y_train),(X_test,y_test) = imdb.load_data(num_words=top_words)"
      ],
      "metadata": {
        "colab": {
          "base_uri": "https://localhost:8080/"
        },
        "id": "6dEM4H61mL5e",
        "outputId": "ebfaab6c-183d-449b-e27f-dffc73e4b899"
      },
      "execution_count": 2,
      "outputs": [
        {
          "output_type": "stream",
          "name": "stdout",
          "text": [
            "Downloading data from https://storage.googleapis.com/tensorflow/tf-keras-datasets/imdb.npz\n",
            "17464789/17464789 [==============================] - 1s 0us/step\n"
          ]
        }
      ]
    },
    {
      "cell_type": "code",
      "source": [
        "print(X_train[1])\n",
        "print(type(X_train[1]))\n",
        "print(len(X_train[1]))\n",
        "print(y_train[1])\n",
        "print(type(y_train[1]))"
      ],
      "metadata": {
        "colab": {
          "base_uri": "https://localhost:8080/"
        },
        "id": "oRyZJO3dmRKF",
        "outputId": "fbfcb7ff-88b8-4172-9bb8-7c10f1f5f88c"
      },
      "execution_count": 3,
      "outputs": [
        {
          "output_type": "stream",
          "name": "stdout",
          "text": [
            "[1, 194, 1153, 194, 2, 78, 228, 5, 6, 1463, 4369, 2, 134, 26, 4, 715, 8, 118, 1634, 14, 394, 20, 13, 119, 954, 189, 102, 5, 207, 110, 3103, 21, 14, 69, 188, 8, 30, 23, 7, 4, 249, 126, 93, 4, 114, 9, 2300, 1523, 5, 647, 4, 116, 9, 35, 2, 4, 229, 9, 340, 1322, 4, 118, 9, 4, 130, 4901, 19, 4, 1002, 5, 89, 29, 952, 46, 37, 4, 455, 9, 45, 43, 38, 1543, 1905, 398, 4, 1649, 26, 2, 5, 163, 11, 3215, 2, 4, 1153, 9, 194, 775, 7, 2, 2, 349, 2637, 148, 605, 2, 2, 15, 123, 125, 68, 2, 2, 15, 349, 165, 4362, 98, 5, 4, 228, 9, 43, 2, 1157, 15, 299, 120, 5, 120, 174, 11, 220, 175, 136, 50, 9, 4373, 228, 2, 5, 2, 656, 245, 2350, 5, 4, 2, 131, 152, 491, 18, 2, 32, 2, 1212, 14, 9, 6, 371, 78, 22, 625, 64, 1382, 9, 8, 168, 145, 23, 4, 1690, 15, 16, 4, 1355, 5, 28, 6, 52, 154, 462, 33, 89, 78, 285, 16, 145, 95]\n",
            "<class 'list'>\n",
            "189\n",
            "0\n",
            "<class 'numpy.int64'>\n"
          ]
        }
      ]
    },
    {
      "cell_type": "code",
      "source": [
        "# truncate and/or pad input sequences\n",
        "max_review_length = 400\n",
        "X_train = pad_sequences(X_train,maxlen=max_review_length)\n",
        "X_test = pad_sequences(X_test,maxlen=max_review_length)\n",
        "\n",
        "print(X_train.shape)\n",
        "print(X_train[1])"
      ],
      "metadata": {
        "colab": {
          "base_uri": "https://localhost:8080/"
        },
        "id": "Jyxk_5GwmTB-",
        "outputId": "d87e3529-401c-4f2a-ba5f-5273d7900318"
      },
      "execution_count": 4,
      "outputs": [
        {
          "output_type": "stream",
          "name": "stdout",
          "text": [
            "(25000, 400)\n",
            "[   0    0    0    0    0    0    0    0    0    0    0    0    0    0\n",
            "    0    0    0    0    0    0    0    0    0    0    0    0    0    0\n",
            "    0    0    0    0    0    0    0    0    0    0    0    0    0    0\n",
            "    0    0    0    0    0    0    0    0    0    0    0    0    0    0\n",
            "    0    0    0    0    0    0    0    0    0    0    0    0    0    0\n",
            "    0    0    0    0    0    0    0    0    0    0    0    0    0    0\n",
            "    0    0    0    0    0    0    0    0    0    0    0    0    0    0\n",
            "    0    0    0    0    0    0    0    0    0    0    0    0    0    0\n",
            "    0    0    0    0    0    0    0    0    0    0    0    0    0    0\n",
            "    0    0    0    0    0    0    0    0    0    0    0    0    0    0\n",
            "    0    0    0    0    0    0    0    0    0    0    0    0    0    0\n",
            "    0    0    0    0    0    0    0    0    0    0    0    0    0    0\n",
            "    0    0    0    0    0    0    0    0    0    0    0    0    0    0\n",
            "    0    0    0    0    0    0    0    0    0    0    0    0    0    0\n",
            "    0    0    0    0    0    0    0    0    0    0    0    0    0    0\n",
            "    0    1  194 1153  194    2   78  228    5    6 1463 4369    2  134\n",
            "   26    4  715    8  118 1634   14  394   20   13  119  954  189  102\n",
            "    5  207  110 3103   21   14   69  188    8   30   23    7    4  249\n",
            "  126   93    4  114    9 2300 1523    5  647    4  116    9   35    2\n",
            "    4  229    9  340 1322    4  118    9    4  130 4901   19    4 1002\n",
            "    5   89   29  952   46   37    4  455    9   45   43   38 1543 1905\n",
            "  398    4 1649   26    2    5  163   11 3215    2    4 1153    9  194\n",
            "  775    7    2    2  349 2637  148  605    2    2   15  123  125   68\n",
            "    2    2   15  349  165 4362   98    5    4  228    9   43    2 1157\n",
            "   15  299  120    5  120  174   11  220  175  136   50    9 4373  228\n",
            "    2    5    2  656  245 2350    5    4    2  131  152  491   18    2\n",
            "   32    2 1212   14    9    6  371   78   22  625   64 1382    9    8\n",
            "  168  145   23    4 1690   15   16    4 1355    5   28    6   52  154\n",
            "  462   33   89   78  285   16  145   95]\n"
          ]
        }
      ]
    },
    {
      "cell_type": "code",
      "source": [
        "import tensorflow as tf\n",
        "# Create the model\n",
        "\n",
        "embedding_vector_length = 32\n",
        "\n",
        "model = Sequential()\n",
        "model.add(Embedding(top_words + 1, embedding_vector_length, input_length=max_review_length))\n",
        "model.add(LSTM(10))\n",
        "model.add(Dense(1, activation='sigmoid'))"
      ],
      "metadata": {
        "id": "qponC2L5mUOJ"
      },
      "execution_count": 5,
      "outputs": []
    },
    {
      "cell_type": "code",
      "source": [
        "model.compile(loss='binary_crossentropy',optimizer='Adam',metrics=['accuracy'])\n",
        "model.summary()"
      ],
      "metadata": {
        "colab": {
          "base_uri": "https://localhost:8080/"
        },
        "id": "g7uGEf51mYB1",
        "outputId": "82c74052-11e3-4bd5-e088-66f5a503da16"
      },
      "execution_count": 6,
      "outputs": [
        {
          "output_type": "stream",
          "name": "stdout",
          "text": [
            "Model: \"sequential\"\n",
            "_________________________________________________________________\n",
            " Layer (type)                Output Shape              Param #   \n",
            "=================================================================\n",
            " embedding (Embedding)       (None, 400, 32)           160032    \n",
            "                                                                 \n",
            " lstm (LSTM)                 (None, 10)                1720      \n",
            "                                                                 \n",
            " dense (Dense)               (None, 1)                 11        \n",
            "                                                                 \n",
            "=================================================================\n",
            "Total params: 161763 (631.89 KB)\n",
            "Trainable params: 161763 (631.89 KB)\n",
            "Non-trainable params: 0 (0.00 Byte)\n",
            "_________________________________________________________________\n"
          ]
        }
      ]
    },
    {
      "cell_type": "code",
      "source": [
        "hist=model.fit(X_train, y_train, epochs=10, batch_size=256,verbose=1, validation_data=(X_test,y_test))\n",
        "\n",
        "# Final evaluation of the model\n",
        "scores = model.evaluate(X_test, y_test, verbose=0)\n",
        "print(\"Accuracy: %.2f%%\" %(scores[1]*100))"
      ],
      "metadata": {
        "colab": {
          "base_uri": "https://localhost:8080/"
        },
        "id": "USNmtwFnmaqi",
        "outputId": "00ea2d6e-4ad8-4738-8e86-f90469e090dc"
      },
      "execution_count": 7,
      "outputs": [
        {
          "output_type": "stream",
          "name": "stdout",
          "text": [
            "Epoch 1/10\n",
            "98/98 [==============================] - 44s 414ms/step - loss: 0.6149 - accuracy: 0.6949 - val_loss: 0.4582 - val_accuracy: 0.8197\n",
            "Epoch 2/10\n",
            "98/98 [==============================] - 32s 324ms/step - loss: 0.4073 - accuracy: 0.8433 - val_loss: 0.3768 - val_accuracy: 0.8502\n",
            "Epoch 3/10\n",
            "98/98 [==============================] - 28s 283ms/step - loss: 0.3178 - accuracy: 0.8840 - val_loss: 0.3426 - val_accuracy: 0.8641\n",
            "Epoch 4/10\n",
            "98/98 [==============================] - 33s 339ms/step - loss: 0.2701 - accuracy: 0.9040 - val_loss: 0.3269 - val_accuracy: 0.8676\n",
            "Epoch 5/10\n",
            "98/98 [==============================] - 30s 302ms/step - loss: 0.2389 - accuracy: 0.9180 - val_loss: 0.3313 - val_accuracy: 0.8682\n",
            "Epoch 6/10\n",
            "98/98 [==============================] - 32s 326ms/step - loss: 0.2120 - accuracy: 0.9295 - val_loss: 0.3235 - val_accuracy: 0.8700\n",
            "Epoch 7/10\n",
            "98/98 [==============================] - 29s 292ms/step - loss: 0.1976 - accuracy: 0.9346 - val_loss: 0.3245 - val_accuracy: 0.8715\n",
            "Epoch 8/10\n",
            "98/98 [==============================] - 29s 301ms/step - loss: 0.1839 - accuracy: 0.9378 - val_loss: 0.3404 - val_accuracy: 0.8684\n",
            "Epoch 9/10\n",
            "98/98 [==============================] - 33s 332ms/step - loss: 0.1719 - accuracy: 0.9434 - val_loss: 0.3507 - val_accuracy: 0.8673\n",
            "Epoch 10/10\n",
            "98/98 [==============================] - 33s 338ms/step - loss: 0.1536 - accuracy: 0.9514 - val_loss: 0.3585 - val_accuracy: 0.8674\n",
            "Accuracy: 86.74%\n"
          ]
        }
      ]
    },
    {
      "cell_type": "code",
      "source": [
        "import matplotlib.pyplot as plt\n",
        "\n",
        "y1=hist.history['accuracy']\n",
        "y2=hist.history['val_accuracy']\n",
        "plt.plot(y1)\n",
        "plt.plot(y2)"
      ],
      "metadata": {
        "colab": {
          "base_uri": "https://localhost:8080/",
          "height": 447
        },
        "id": "RREBlltfmdHR",
        "outputId": "c1a96ac0-b8f6-4e81-d711-8f31c4bcf2cd"
      },
      "execution_count": 8,
      "outputs": [
        {
          "output_type": "execute_result",
          "data": {
            "text/plain": [
              "[<matplotlib.lines.Line2D at 0x799932edce80>]"
            ]
          },
          "metadata": {},
          "execution_count": 8
        },
        {
          "output_type": "display_data",
          "data": {
            "text/plain": [
              "<Figure size 640x480 with 1 Axes>"
            ],
            "image/png": "[encoded data removed]"
          },
          "metadata": {}
        }
      ]
    },
    {
      "cell_type": "code",
      "source": [
        "import matplotlib.pyplot as plt\n",
        "\n",
        "y1=hist.history['loss']\n",
        "y2=hist.history['val_loss']\n",
        "plt.plot(y1)\n",
        "plt.plot(y2)"
      ],
      "metadata": {
        "colab": {
          "base_uri": "https://localhost:8080/",
          "height": 447
        },
        "id": "kkSfE81nmfLa",
        "outputId": "dd778a2d-b00d-45f4-a4ca-c91ea25372fa"
      },
      "execution_count": 9,
      "outputs": [
        {
          "output_type": "execute_result",
          "data": {
            "text/plain": [
              "[<matplotlib.lines.Line2D at 0x79993327c850>]"
            ]
          },
          "metadata": {},
          "execution_count": 9
        },
        {
          "output_type": "display_data",
          "data": {
            "text/plain": [
              "<Figure size 640x480 with 1 Axes>"
            ],
            "image/png": "[encoded data removed]"
          },
          "metadata": {}
        }
      ]
    },
    {
      "cell_type": "code",
      "source": [
        "pred=model.predict(X_test)\n",
        "print(pred)"
      ],
      "metadata": {
        "colab": {
          "base_uri": "https://localhost:8080/"
        },
        "id": "yneKDbinmlkf",
        "outputId": "b56d0d53-ba82-479a-ec0b-f9b8453bee29"
      },
      "execution_count": 10,
      "outputs": [
        {
          "output_type": "stream",
          "name": "stdout",
          "text": [
            "782/782 [==============================] - 26s 30ms/step\n",
            "[[0.03983247]\n",
            " [0.9696741 ]\n",
            " [0.8679562 ]\n",
            " ...\n",
            " [0.03271886]\n",
            " [0.44875103]\n",
            " [0.94231343]]\n"
          ]
        }
      ]
    },
    {
      "cell_type": "code",
      "source": [],
      "metadata": {
        "id": "ZZ2zxuVdobLh"
      },
      "execution_count": null,
      "outputs": []
    }
  ]
}